{
 "cells": [
  {
   "cell_type": "code",
   "execution_count": 60,
   "id": "78e9deb4-0aaa-4bbb-9091-3f2d17cef165",
   "metadata": {},
   "outputs": [],
   "source": [
    "import cv2 as cv\n",
    "import matplotlib.pyplot as plt\n",
    "import numpy as np"
   ]
  },
  {
   "cell_type": "code",
   "execution_count": 61,
   "id": "ac4b0f81-b864-4681-92cc-8d8d689da53f",
   "metadata": {},
   "outputs": [
    {
     "data": {
      "text/plain": [
       "array([  0,   1,   2,   3,   4,   5,   6,   7,   8,  54,  55,  56,  57,\n",
       "        58,  59,  60,  61,  62,  63,  64,  65,  66,  67,  68,  69,  70,\n",
       "        71,  72, 118, 119, 120, 121, 122, 123, 124, 125, 126, 127, 128,\n",
       "       129, 130, 131, 132, 133, 134, 181, 182, 183, 184, 185, 186, 187,\n",
       "       188, 189, 190, 191, 192, 193, 194, 195, 196, 197, 198], dtype=uint8)"
      ]
     },
     "execution_count": 61,
     "metadata": {},
     "output_type": "execute_result"
    }
   ],
   "source": [
    "segments = cv.imread('./ga_baboon.jpg', cv.IMREAD_GRAYSCALE)\n",
    "# segments[np.isin(segments, (0,   1,   2,   3,   4,   5,   6,   7))] = 0\n",
    "# segments[np.isin(segments, (56,  57,  58,  59,  60,  61,  62,  63,  64,  65,  66,  67, 68,  69,  70))] = 1\n",
    "# segments[np.isin(segments, (118, 119, 120, 121, 122, 123, 124, 125, 126, 127, 128, 129, 130, 131, 132, 133))] = 2\n",
    "# segments[np.isin(segments, (181, 182, 183, 184, 185, 186, 187, 188, 189, 190, 191, 192, 193, 194, 195, 196, 197))] = 3\n",
    "\n",
    "np.unique(segments)"
   ]
  },
  {
   "cell_type": "code",
   "execution_count": 62,
   "id": "8d1210a7-751d-4ca5-8759-fcfaa3a83600",
   "metadata": {},
   "outputs": [],
   "source": [
    "def overlay(image, mask, color, alpha, resize=None):\n",
    "    \"\"\"Combines image and its segmentation mask into a single image.\n",
    "    https://www.kaggle.com/code/purplejester/showing-samples-with-segmentation-mask-overlay\n",
    "\n",
    "    Params:\n",
    "        image: Training image. np.ndarray,\n",
    "        mask: Segmentation mask. np.ndarray,\n",
    "        color: Color for segmentation mask rendering.  tuple[int, int, int] = (255, 0, 0)\n",
    "        alpha: Segmentation mask's transparency. float = 0.5,\n",
    "        resize: If provided, both image and its mask are resized before blending them together.\n",
    "        tuple[int, int] = (1024, 1024))\n",
    "\n",
    "    Returns:\n",
    "        image_combined: The combined image. np.ndarray\n",
    "\n",
    "    \"\"\"\n",
    "    color = color[::-1]\n",
    "    colored_mask = np.expand_dims(mask, 0).repeat(3, axis=0)\n",
    "    colored_mask = np.moveaxis(colored_mask, 0, -1)\n",
    "    masked = np.ma.MaskedArray(image, mask=colored_mask, fill_value=color)\n",
    "    image_overlay = masked.filled()\n",
    "\n",
    "    if resize is not None:\n",
    "        image = cv.resize(image.transpose(1, 2, 0), resize)\n",
    "        image_overlay = cv.resize(image_overlay.transpose(1, 2, 0), resize)\n",
    "\n",
    "    image_combined = cv.addWeighted(image, 1 - alpha, image_overlay, alpha, 0)\n",
    "\n",
    "    return image_combined"
   ]
  },
  {
   "cell_type": "code",
   "execution_count": 63,
   "id": "cc66509d-8173-48d1-9070-c893f405ba03",
   "metadata": {},
   "outputs": [
    {
     "ename": "MaskError",
     "evalue": "Mask and data not compatible: data size is 150738, mask size is 786432.",
     "output_type": "error",
     "traceback": [
      "\u001b[1;31m---------------------------------------------------------------------------\u001b[0m",
      "\u001b[1;31mMaskError\u001b[0m                                 Traceback (most recent call last)",
      "Cell \u001b[1;32mIn[63], line 4\u001b[0m\n\u001b[0;32m      1\u001b[0m img \u001b[38;5;241m=\u001b[39m cv\u001b[38;5;241m.\u001b[39mimread(\u001b[38;5;124m'\u001b[39m\u001b[38;5;124m./HappyFish.jpg\u001b[39m\u001b[38;5;124m'\u001b[39m, cv\u001b[38;5;241m.\u001b[39mIMREAD_COLOR)\n\u001b[0;32m      2\u001b[0m img \u001b[38;5;241m=\u001b[39m cv\u001b[38;5;241m.\u001b[39mcvtColor(img, cv\u001b[38;5;241m.\u001b[39mCOLOR_BGR2RGB)\n\u001b[1;32m----> 4\u001b[0m result \u001b[38;5;241m=\u001b[39m \u001b[43moverlay\u001b[49m\u001b[43m(\u001b[49m\u001b[43mimg\u001b[49m\u001b[43m,\u001b[49m\u001b[43m \u001b[49m\u001b[43msegments\u001b[49m\u001b[38;5;241;43m==\u001b[39;49m\u001b[38;5;241;43m0\u001b[39;49m\u001b[43m,\u001b[49m\u001b[43m \u001b[49m\u001b[43m(\u001b[49m\u001b[38;5;241;43m0\u001b[39;49m\u001b[43m,\u001b[49m\u001b[43m \u001b[49m\u001b[38;5;241;43m255\u001b[39;49m\u001b[43m,\u001b[49m\u001b[43m \u001b[49m\u001b[38;5;241;43m0\u001b[39;49m\u001b[43m)\u001b[49m\u001b[43m,\u001b[49m\u001b[43m \u001b[49m\u001b[38;5;241;43m.3\u001b[39;49m\u001b[43m)\u001b[49m\n\u001b[0;32m      5\u001b[0m result \u001b[38;5;241m=\u001b[39m overlay(result, segments\u001b[38;5;241m==\u001b[39m\u001b[38;5;241m1\u001b[39m, (\u001b[38;5;241m255\u001b[39m, \u001b[38;5;241m0\u001b[39m, \u001b[38;5;241m0\u001b[39m), \u001b[38;5;241m.3\u001b[39m)\n\u001b[0;32m      6\u001b[0m result \u001b[38;5;241m=\u001b[39m overlay(result, segments\u001b[38;5;241m==\u001b[39m\u001b[38;5;241m2\u001b[39m, (\u001b[38;5;241m0\u001b[39m, \u001b[38;5;241m0\u001b[39m, \u001b[38;5;241m255\u001b[39m), \u001b[38;5;241m.3\u001b[39m)\n",
      "Cell \u001b[1;32mIn[62], line 20\u001b[0m, in \u001b[0;36moverlay\u001b[1;34m(image, mask, color, alpha, resize)\u001b[0m\n\u001b[0;32m     18\u001b[0m colored_mask \u001b[38;5;241m=\u001b[39m np\u001b[38;5;241m.\u001b[39mexpand_dims(mask, \u001b[38;5;241m0\u001b[39m)\u001b[38;5;241m.\u001b[39mrepeat(\u001b[38;5;241m3\u001b[39m, axis\u001b[38;5;241m=\u001b[39m\u001b[38;5;241m0\u001b[39m)\n\u001b[0;32m     19\u001b[0m colored_mask \u001b[38;5;241m=\u001b[39m np\u001b[38;5;241m.\u001b[39mmoveaxis(colored_mask, \u001b[38;5;241m0\u001b[39m, \u001b[38;5;241m-\u001b[39m\u001b[38;5;241m1\u001b[39m)\n\u001b[1;32m---> 20\u001b[0m masked \u001b[38;5;241m=\u001b[39m \u001b[43mnp\u001b[49m\u001b[38;5;241;43m.\u001b[39;49m\u001b[43mma\u001b[49m\u001b[38;5;241;43m.\u001b[39;49m\u001b[43mMaskedArray\u001b[49m\u001b[43m(\u001b[49m\u001b[43mimage\u001b[49m\u001b[43m,\u001b[49m\u001b[43m \u001b[49m\u001b[43mmask\u001b[49m\u001b[38;5;241;43m=\u001b[39;49m\u001b[43mcolored_mask\u001b[49m\u001b[43m,\u001b[49m\u001b[43m \u001b[49m\u001b[43mfill_value\u001b[49m\u001b[38;5;241;43m=\u001b[39;49m\u001b[43mcolor\u001b[49m\u001b[43m)\u001b[49m\n\u001b[0;32m     21\u001b[0m image_overlay \u001b[38;5;241m=\u001b[39m masked\u001b[38;5;241m.\u001b[39mfilled()\n\u001b[0;32m     23\u001b[0m \u001b[38;5;28;01mif\u001b[39;00m resize \u001b[38;5;129;01mis\u001b[39;00m \u001b[38;5;129;01mnot\u001b[39;00m \u001b[38;5;28;01mNone\u001b[39;00m:\n",
      "File \u001b[1;32m~\\AppData\\Local\\Programs\\Python\\Python312\\Lib\\site-packages\\numpy\\ma\\core.py:2911\u001b[0m, in \u001b[0;36mMaskedArray.__new__\u001b[1;34m(cls, data, mask, dtype, copy, subok, ndmin, fill_value, keep_mask, hard_mask, shrink, order)\u001b[0m\n\u001b[0;32m   2908\u001b[0m     \u001b[38;5;28;01melse\u001b[39;00m:\n\u001b[0;32m   2909\u001b[0m         msg \u001b[38;5;241m=\u001b[39m \u001b[38;5;124m\"\u001b[39m\u001b[38;5;124mMask and data not compatible: data size is \u001b[39m\u001b[38;5;132;01m%i\u001b[39;00m\u001b[38;5;124m, \u001b[39m\u001b[38;5;124m\"\u001b[39m \u001b[38;5;241m+\u001b[39m \\\n\u001b[0;32m   2910\u001b[0m               \u001b[38;5;124m\"\u001b[39m\u001b[38;5;124mmask size is \u001b[39m\u001b[38;5;132;01m%i\u001b[39;00m\u001b[38;5;124m.\u001b[39m\u001b[38;5;124m\"\u001b[39m\n\u001b[1;32m-> 2911\u001b[0m         \u001b[38;5;28;01mraise\u001b[39;00m MaskError(msg \u001b[38;5;241m%\u001b[39m (nd, nm))\n\u001b[0;32m   2912\u001b[0m     copy \u001b[38;5;241m=\u001b[39m \u001b[38;5;28;01mTrue\u001b[39;00m\n\u001b[0;32m   2913\u001b[0m \u001b[38;5;66;03m# Set the mask to the new value\u001b[39;00m\n",
      "\u001b[1;31mMaskError\u001b[0m: Mask and data not compatible: data size is 150738, mask size is 786432."
     ]
    }
   ],
   "source": [
    "img = cv.imread('./HappyFish.jpg', cv.IMREAD_COLOR)\n",
    "img = cv.cvtColor(img, cv.COLOR_BGR2RGB)\n",
    "\n",
    "result = overlay(img, segments==0, (0, 255, 0), .3)\n",
    "result = overlay(result, segments==1, (255, 0, 0), .3)\n",
    "result = overlay(result, segments==2, (0, 0, 255), .3)\n",
    "result = overlay(result, segments==3, (255, 255, 0), .3)\n",
    "\n",
    "plt.imshow(result)\n",
    "plt.axis('off')\n",
    "plt.savefig('./out.png')\n",
    "plt.show()"
   ]
  },
  {
   "cell_type": "code",
   "execution_count": 64,
   "id": "8c32f7a6-3311-4ecf-9bbf-a089f79b05be",
   "metadata": {},
   "outputs": [
    {
     "data": {
      "text/plain": [
       "array([0, 1, 2, 3], dtype=uint8)"
      ]
     },
     "execution_count": 64,
     "metadata": {},
     "output_type": "execute_result"
    }
   ],
   "source": [
    "pirate_segments = cv.imread(r'C:\\university\\ga-segmentation\\out_smoothed.jpg', cv.IMREAD_GRAYSCALE)\n",
    "pirate_segments[np.isin(pirate_segments, (0,   1,   2,   3,   4,   5,   6,   7,   8,   9))] = 0\n",
    "pirate_segments[np.isin(pirate_segments, (55,  56,  57, 58,  59,  60,  61,  62,  63,  64,  65,  66,  67,  68,  69,  70, 71))] = 1\n",
    "pirate_segments[np.isin(pirate_segments, (117, 118, 119, 120, 121, 122, 123, 124, 125, 126, 127, 128, 129, 130, 131, 132, 133, 134))] = 2\n",
    "pirate_segments[np.isin(pirate_segments, (182, 183, 184, 185, 186, 187, 188, 189, 190, 191, 192, 193, 194, 195, 196, 197))] = 3\n",
    "\n",
    "\n",
    "np.unique(pirate_segments)"
   ]
  },
  {
   "cell_type": "code",
   "execution_count": 68,
   "id": "03030bd9-88b4-4316-8bc9-987408ac09f5",
   "metadata": {},
   "outputs": [
    {
     "ename": "NameError",
     "evalue": "name 'ga_baboon' is not defined",
     "output_type": "error",
     "traceback": [
      "\u001b[1;31m---------------------------------------------------------------------------\u001b[0m",
      "\u001b[1;31mNameError\u001b[0m                                 Traceback (most recent call last)",
      "Cell \u001b[1;32mIn[68], line 3\u001b[0m\n\u001b[0;32m      1\u001b[0m pirate_img \u001b[38;5;241m=\u001b[39m cv\u001b[38;5;241m.\u001b[39mimread(\u001b[38;5;124mr\u001b[39m\u001b[38;5;124m'\u001b[39m\u001b[38;5;124mC:\u001b[39m\u001b[38;5;124m\\\u001b[39m\u001b[38;5;124muniversity\u001b[39m\u001b[38;5;124m\\\u001b[39m\u001b[38;5;124mga-segmentation\u001b[39m\u001b[38;5;124m\\\u001b[39m\u001b[38;5;124mresources\u001b[39m\u001b[38;5;124m\\\u001b[39m\u001b[38;5;124mstandard_test_images\u001b[39m\u001b[38;5;124m\\\u001b[39m\u001b[38;5;124mga_baboon.jpg\u001b[39m\u001b[38;5;124m'\u001b[39m, cv\u001b[38;5;241m.\u001b[39mIMREAD_COLOR)\n\u001b[0;32m      2\u001b[0m \u001b[38;5;66;03m# pirate_img = cv.cvtColor(img, cv.COLOR_BGR2RGB)\u001b[39;00m\n\u001b[1;32m----> 3\u001b[0m pirate_img \u001b[38;5;241m=\u001b[39m cv\u001b[38;5;241m.\u001b[39mresize(\u001b[43mga_baboon\u001b[49m, dsize\u001b[38;5;241m=\u001b[39m\u001b[38;5;28;01mNone\u001b[39;00m, fx\u001b[38;5;241m=\u001b[39m\u001b[38;5;241m.5\u001b[39m, fy\u001b[38;5;241m=\u001b[39m\u001b[38;5;241m.5\u001b[39m, interpolation\u001b[38;5;241m=\u001b[39mcv\u001b[38;5;241m.\u001b[39mINTER_LINEAR)\n\u001b[0;32m      5\u001b[0m result \u001b[38;5;241m=\u001b[39m overlay(ga_baboon, pirate_segments\u001b[38;5;241m==\u001b[39m\u001b[38;5;241m0\u001b[39m, (\u001b[38;5;241m0\u001b[39m, \u001b[38;5;241m255\u001b[39m, \u001b[38;5;241m0\u001b[39m), \u001b[38;5;241m.3\u001b[39m)\n\u001b[0;32m      6\u001b[0m result \u001b[38;5;241m=\u001b[39m overlay(result, pirate_segments\u001b[38;5;241m==\u001b[39m\u001b[38;5;241m1\u001b[39m, (\u001b[38;5;241m255\u001b[39m, \u001b[38;5;241m0\u001b[39m, \u001b[38;5;241m0\u001b[39m), \u001b[38;5;241m.3\u001b[39m)\n",
      "\u001b[1;31mNameError\u001b[0m: name 'ga_baboon' is not defined"
     ]
    }
   ],
   "source": [
    "pirate_img = cv.imread(r'C:\\university\\ga-segmentation\\resources\\standard_test_images\\ga_baboon.jpg', cv.IMREAD_COLOR)\n",
    "# pirate_img = cv.cvtColor(img, cv.COLOR_BGR2RGB)\n",
    "pirate_img = cv.resize(ga_baboon, dsize=None, fx=.5, fy=.5, interpolation=cv.INTER_LINEAR)\n",
    "\n",
    "result = overlay(ga_baboon, pirate_segments==0, (0, 255, 0), .3)\n",
    "result = overlay(result, pirate_segments==1, (255, 0, 0), .3)\n",
    "result = overlay(result, pirate_segments==2, (0, 0, 255), .3)\n",
    "result = overlay(result, pirate_segments==3, (255, 255, 0), .3)\n",
    "\n",
    "plt.imshow(result)\n",
    "plt.axis('off')\n",
    "plt.savefig('./pirate_out.png')\n",
    "plt.show()"
   ]
  },
  {
   "cell_type": "code",
   "execution_count": null,
   "id": "ef334d5d-8e3c-4a25-8596-b055e28f3d5f",
   "metadata": {},
   "outputs": [],
   "source": []
  }
 ],
 "metadata": {
  "kernelspec": {
   "display_name": "Python 3 (ipykernel)",
   "language": "python",
   "name": "python3"
  },
  "language_info": {
   "codemirror_mode": {
    "name": "ipython",
    "version": 3
   },
   "file_extension": ".py",
   "mimetype": "text/x-python",
   "name": "python",
   "nbconvert_exporter": "python",
   "pygments_lexer": "ipython3",
   "version": "3.12.0"
  }
 },
 "nbformat": 4,
 "nbformat_minor": 5
}
