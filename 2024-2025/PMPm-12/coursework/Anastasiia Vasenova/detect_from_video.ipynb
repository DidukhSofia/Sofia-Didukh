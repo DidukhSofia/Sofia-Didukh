{
 "cells": [
  {
   "cell_type": "code",
   "id": "initial_id",
   "metadata": {
    "collapsed": true,
    "ExecuteTime": {
     "end_time": "2025-05-25T12:27:17.725518Z",
     "start_time": "2025-05-25T12:27:13.978326Z"
    }
   },
   "source": [
    "\"\"\"ДЕТЕКЦІЯ АВТОМОБІЛІВ НА КОЖНОМУ N-НОМУ КАДРІ ВІДЕОПОТОКУ\"\"\"\n",
    "\n",
    "import os\n",
    "import cv2\n",
    "import numpy as np\n",
    "import pywt\n",
    "from ultralytics import YOLO\n",
    "\n",
    "def apply_wavelet_centered(img, wavelet='db6', lambda_=0.5):\n",
    "    gray = cv2.cvtColor(img, cv2.COLOR_BGR2GRAY)\n",
    "    coeffs2 = pywt.dwt2(gray, wavelet)\n",
    "    _, (H, V, D) = coeffs2\n",
    "    W = np.sqrt(H ** 2 + V ** 2 + D ** 2)\n",
    "    W = cv2.resize(W, (img.shape[1], img.shape[0]))\n",
    "    W_centered = W - np.mean(W)\n",
    "    img_float = img.astype(np.float32)\n",
    "    W3 = np.stack([W_centered] * 3, axis=-1)\n",
    "    result = img_float + lambda_ * W3\n",
    "    return np.clip(result, 0, 255).astype(np.uint8)\n",
    "\n",
    "def extract_and_detect_frames(model_path, video_path, output_folder, frame_step=30):\n",
    "    os.makedirs(output_folder, exist_ok=True)\n",
    "    model = YOLO(model_path)\n",
    "\n",
    "    cap = cv2.VideoCapture(video_path)\n",
    "    frame_count = 0\n",
    "    saved_count = 0\n",
    "\n",
    "    while cap.isOpened():\n",
    "        ret, frame = cap.read()\n",
    "        if not ret:\n",
    "            break\n",
    "\n",
    "        if frame_count % frame_step == 0:\n",
    "            wavelet_frame = apply_wavelet_centered(frame.copy(), lambda_=0.5)\n",
    "            results = model.predict(wavelet_frame, conf=0.3, verbose=False)[0]\n",
    "\n",
    "            for box in results.boxes:\n",
    "                x1, y1, x2, y2 = map(int, box.xyxy[0])\n",
    "                cv2.rectangle(frame, (x1, y1), (x2, y2), (255, 0, 0), 2)\n",
    "\n",
    "            save_path = os.path.join(output_folder, f\"frame_{saved_count:04d}.jpg\")\n",
    "            cv2.imwrite(save_path, frame)\n",
    "            saved_count += 1\n",
    "\n",
    "        frame_count += 1\n",
    "    cap.release()\n",
    "    print(f\"Оброблено {saved_count} кадрів\")\n",
    "\n",
    "if __name__ == '__main__':\n",
    "    extract_and_detect_frames(\n",
    "        model_path='C:/Users/nasti/PyCharmProjects/CourseProject/model.pt',\n",
    "        video_path='C:/Users/nasti/PyCharmProjects/CourseProject/orig_data/video3.mp4',\n",
    "        output_folder='C:/Users/nasti/PyCharmProjects/CourseProject/res_from_video',\n",
    "        frame_step=32  # кожен n-й кадр (орієнтовно 1 секунда при 30 FPS)\n",
    "    )\n"
   ],
   "outputs": [
    {
     "name": "stdout",
     "output_type": "stream",
     "text": [
      "Оброблено 35 кадрів\n"
     ]
    }
   ],
   "execution_count": 5
  },
  {
   "metadata": {},
   "cell_type": "code",
   "outputs": [],
   "execution_count": null,
   "source": "",
   "id": "255e7c0871ecf23a"
  }
 ],
 "metadata": {
  "kernelspec": {
   "display_name": "Python 3",
   "language": "python",
   "name": "python3"
  },
  "language_info": {
   "codemirror_mode": {
    "name": "ipython",
    "version": 2
   },
   "file_extension": ".py",
   "mimetype": "text/x-python",
   "name": "python",
   "nbconvert_exporter": "python",
   "pygments_lexer": "ipython2",
   "version": "2.7.6"
  }
 },
 "nbformat": 4,
 "nbformat_minor": 5
}
