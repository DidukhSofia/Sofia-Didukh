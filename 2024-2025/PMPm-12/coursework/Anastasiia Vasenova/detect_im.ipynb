{
 "cells": [
  {
   "cell_type": "code",
   "id": "initial_id",
   "metadata": {
    "collapsed": true,
    "ExecuteTime": {
     "end_time": "2025-05-25T15:22:57.539572Z",
     "start_time": "2025-05-25T15:22:56.582770Z"
    }
   },
   "source": [
    "\"\"\"ВИДІЛЕННЯ ВИЯВЛЕНИХ ТЗ НА ТЕСТОВІЙ ЗБІРЦІ\"\"\"\n",
    "\n",
    "import os\n",
    "import cv2\n",
    "import numpy as np\n",
    "import pywt\n",
    "from ultralytics import YOLO\n",
    "\n",
    "def apply_wavelet_centered(img, wavelet='db6', lambda_=0.5):\n",
    "    gray = cv2.cvtColor(img, cv2.COLOR_BGR2GRAY)\n",
    "    coeffs2 = pywt.dwt2(gray, wavelet)\n",
    "    _, (H, V, D) = coeffs2\n",
    "    W = np.sqrt(H ** 2 + V ** 2 + D ** 2)\n",
    "    W = cv2.resize(W, (img.shape[1], img.shape[0]))\n",
    "    W_centered = W - np.mean(W)\n",
    "    img_float = img.astype(np.float32)\n",
    "    W3 = np.stack([W_centered] * 3, axis=-1)\n",
    "    result = img_float + lambda_ * W3\n",
    "    return np.clip(result, 0, 255).astype(np.uint8)\n",
    "\n",
    "def detect_on_test_images(model_path, test_folder, output_folder):\n",
    "    os.makedirs(output_folder, exist_ok=True)\n",
    "    model = YOLO(model_path)\n",
    "\n",
    "    for filename in os.listdir(test_folder):\n",
    "        if not filename.lower().endswith(('.jpg', '.png', '.jpeg')):\n",
    "            continue\n",
    "\n",
    "        path = os.path.join(test_folder, filename)\n",
    "        img = cv2.imread(path)\n",
    "        if img is None:\n",
    "            continue\n",
    "\n",
    "        img_wavelet = apply_wavelet_centered(img, lambda_=0.5)\n",
    "        results = model.predict(img_wavelet, conf=0.25, verbose=False)[0]\n",
    "\n",
    "        for box in results.boxes:\n",
    "            x1, y1, x2, y2 = map(int, box.xyxy[0])\n",
    "            cv2.rectangle(img, (x1, y1), (x2, y2), (255, 0, 0), 1)\n",
    "\n",
    "        save_path = os.path.join(output_folder, filename)\n",
    "        cv2.imwrite(save_path, img)\n",
    "\n",
    "\n",
    "if __name__ == '__main__':\n",
    "    detect_on_test_images(\n",
    "        model_path='model.pt',\n",
    "        test_folder='data/test/images',\n",
    "        output_folder='res_im'\n",
    "    )\n"
   ],
   "outputs": [],
   "execution_count": 2
  },
  {
   "metadata": {},
   "cell_type": "code",
   "outputs": [],
   "execution_count": null,
   "source": "",
   "id": "10ce7687a948864c"
  }
 ],
 "metadata": {
  "kernelspec": {
   "display_name": "Python 3",
   "language": "python",
   "name": "python3"
  },
  "language_info": {
   "codemirror_mode": {
    "name": "ipython",
    "version": 2
   },
   "file_extension": ".py",
   "mimetype": "text/x-python",
   "name": "python",
   "nbconvert_exporter": "python",
   "pygments_lexer": "ipython2",
   "version": "2.7.6"
  }
 },
 "nbformat": 4,
 "nbformat_minor": 5
}
