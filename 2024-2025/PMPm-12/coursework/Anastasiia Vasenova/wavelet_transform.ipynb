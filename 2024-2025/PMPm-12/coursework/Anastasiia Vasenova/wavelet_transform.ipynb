{
 "cells": [
  {
   "cell_type": "code",
   "id": "initial_id",
   "metadata": {
    "collapsed": true,
    "ExecuteTime": {
     "end_time": "2025-05-19T22:05:09.109177Z",
     "start_time": "2025-05-19T22:05:01.728094Z"
    }
   },
   "source": [
    "\"\"\"ОБРОБКА УСІХ ЗОБРАЖЕНЬ ДАТАСЕТУ ВЕЙВЛЕТНИМИ ПЕРЕТВОРЕННЯМИ\"\"\"\n",
    "\n",
    "import cv2\n",
    "import numpy as np\n",
    "import pywt\n",
    "import os\n",
    "from tqdm import tqdm\n",
    "\n",
    "def apply_wavelet_centered(img, wavelet='db6', lambda_=0.5):\n",
    "    gray = cv2.cvtColor(img, cv2.COLOR_BGR2GRAY)\n",
    "    coeffs2 = pywt.dwt2(gray, wavelet)\n",
    "    _, (H, V, D) = coeffs2\n",
    "    W = np.sqrt(H ** 2 + V ** 2 + D ** 2)\n",
    "    W = cv2.resize(W, (img.shape[1], img.shape[0]))\n",
    "    W_centered = W - np.mean(W)\n",
    "    img_float = img.astype(np.float32)\n",
    "    W3 = np.stack([W_centered] * 3, axis=-1)\n",
    "    result = img_float + lambda_ * W3\n",
    "    return np.clip(result, 0, 255).astype(np.uint8)\n",
    "\n",
    "def preprocess_folder(input_folder, output_folder, lambda_=0.5):\n",
    "    os.makedirs(output_folder, exist_ok=True)\n",
    "    for filename in tqdm(os.listdir(input_folder)):\n",
    "        if filename.endswith(('.jpg', '.png')):\n",
    "            img_path = os.path.join(input_folder, filename)\n",
    "            img = cv2.imread(img_path)\n",
    "            if img is None:\n",
    "                continue\n",
    "            img_wavelet = apply_wavelet_centered(img, lambda_=lambda_)\n",
    "            cv2.imwrite(os.path.join(output_folder, filename), img_wavelet)\n",
    "\n",
    "def process_all_sets(base_input, base_output, lambda_=0.5):\n",
    "    for split in ['train', 'valid', 'test']:\n",
    "        preprocess_folder(\n",
    "            os.path.join(base_input, split, 'images'),\n",
    "            os.path.join(base_output, split, 'images'),\n",
    "            lambda_\n",
    "        )\n",
    "        labels_src = os.path.join(base_input, split, 'labels')\n",
    "        labels_dst = os.path.join(base_output, split, 'labels')\n",
    "        os.makedirs(labels_dst, exist_ok=True)\n",
    "        for f in os.listdir(labels_src):\n",
    "            src = os.path.join(labels_src, f)\n",
    "            dst = os.path.join(labels_dst, f)\n",
    "            if not os.path.exists(dst):\n",
    "                with open(src, 'r') as r, open(dst, 'w') as w:\n",
    "                    w.write(r.read())\n",
    "\n",
    "if __name__ == '__main__':\n",
    "    original = 'orig_data'\n",
    "    processed = 'data'\n",
    "    process_all_sets(original, processed, lambda_=0.5)\n"
   ],
   "outputs": [
    {
     "name": "stderr",
     "output_type": "stream",
     "text": [
      "100%|██████████| 102/102 [00:04<00:00, 20.45it/s]\n",
      "100%|██████████| 28/28 [00:01<00:00, 20.98it/s]\n",
      "100%|██████████| 13/13 [00:00<00:00, 22.45it/s]\n"
     ]
    }
   ],
   "execution_count": 1
  },
  {
   "metadata": {},
   "cell_type": "code",
   "outputs": [],
   "execution_count": null,
   "source": "",
   "id": "f72b5666beba3433"
  }
 ],
 "metadata": {
  "kernelspec": {
   "display_name": "Python 3",
   "language": "python",
   "name": "python3"
  },
  "language_info": {
   "codemirror_mode": {
    "name": "ipython",
    "version": 2
   },
   "file_extension": ".py",
   "mimetype": "text/x-python",
   "name": "python",
   "nbconvert_exporter": "python",
   "pygments_lexer": "ipython2",
   "version": "2.7.6"
  }
 },
 "nbformat": 4,
 "nbformat_minor": 5
}
