{
 "cells": [
  {
   "cell_type": "code",
   "execution_count": 1,
   "id": "54c3314a-4f56-4ebf-afb7-12e6f01f30d8",
   "metadata": {},
   "outputs": [],
   "source": [
    "import json\n",
    "import os\n",
    "import shutil\n",
    "from sklearn.model_selection import train_test_split"
   ]
  },
  {
   "cell_type": "code",
   "execution_count": 2,
   "id": "e24a7bf2-d270-4d78-9fe8-41c2b899088c",
   "metadata": {},
   "outputs": [],
   "source": [
    "os.makedirs('./data/dfg-ultralytics')\n",
    "os.makedirs('./data/dfg-ultralytics/images/train')\n",
    "os.makedirs('./data/dfg-ultralytics/images/val')\n",
    "os.makedirs('./data/dfg-ultralytics/images/test')\n",
    "os.makedirs('./data/dfg-ultralytics/labels/train')\n",
    "os.makedirs('./data/dfg-ultralytics/labels/val')\n",
    "os.makedirs('./data/dfg-ultralytics/labels/test')"
   ]
  },
  {
   "cell_type": "code",
   "execution_count": 3,
   "id": "2d2618e4-ca11-40b3-b827-1c156cb25a97",
   "metadata": {},
   "outputs": [
    {
     "data": {
      "text/plain": [
       "dict_keys(['images', 'categories', 'annotations', 'info'])"
      ]
     },
     "execution_count": 3,
     "metadata": {},
     "output_type": "execute_result"
    }
   ],
   "source": [
    "with open('./data/dfg/train.json', 'r') as f:\n",
    "    train_annotations_json = json.load(f)\n",
    "train_annotations_json.keys()"
   ]
  },
  {
   "cell_type": "code",
   "execution_count": 4,
   "id": "34a35465-b39a-4fe1-8290-39fa76140eec",
   "metadata": {},
   "outputs": [],
   "source": [
    "# train_images = {x['id']: x for x in train_annotations_json['images']}\n",
    "train_images = train_annotations_json['images'][:]\n",
    "train_annotations = {}\n",
    "for annotation in train_annotations_json['annotations']:\n",
    "    if annotation['image_id'] not in train_annotations:\n",
    "        train_annotations[annotation['image_id']] = []\n",
    "    train_annotations[annotation['image_id']].append(annotation)"
   ]
  },
  {
   "cell_type": "code",
   "execution_count": 5,
   "id": "6e2c841e-782e-4fc2-b066-422775c04e35",
   "metadata": {},
   "outputs": [
    {
     "data": {
      "text/plain": [
       "13970"
      ]
     },
     "execution_count": 5,
     "metadata": {},
     "output_type": "execute_result"
    }
   ],
   "source": [
    "len(train_annotations)"
   ]
  },
  {
   "cell_type": "code",
   "execution_count": 6,
   "id": "8cb4ef64-52b9-482d-bfb7-3f07ff43b96b",
   "metadata": {},
   "outputs": [
    {
     "data": {
      "text/plain": [
       "(11223, 2806)"
      ]
     },
     "execution_count": 6,
     "metadata": {},
     "output_type": "execute_result"
    }
   ],
   "source": [
    "train_images, val_images = train_test_split(train_images, test_size=.2)\n",
    "len(train_images), len(val_images)"
   ]
  },
  {
   "cell_type": "code",
   "execution_count": 7,
   "id": "6f708640-0e44-4944-9f7e-30c194843b0b",
   "metadata": {},
   "outputs": [],
   "source": [
    "for image in train_images:\n",
    "    w = image['width']\n",
    "    h = image['height']\n",
    "    fname = image['file_name'].split('.')[0]\n",
    "\n",
    "    if image['id'] not in train_annotations:\n",
    "        with open(f'./data/dfg-ultralytics/labels/train/{fname}.txt', 'w') as f:\n",
    "            f.write('')\n",
    "        continue\n",
    "\n",
    "    annotations = ['{} {} {} {} {}'.format(ann['category_id'], ann['bbox'][0]/w + ann['bbox'][2]/(2*w), ann['bbox'][1]/h + ann['bbox'][3]/(2*h), ann['bbox'][2]/w, ann['bbox'][3]/h) for ann in train_annotations[image['id']] if ann['bbox'][2] != -1]\n",
    "    with open(f'./data/dfg-ultralytics/labels/train/{fname}.txt', 'w') as f:\n",
    "        f.write('\\n'.join(annotations))"
   ]
  },
  {
   "cell_type": "code",
   "execution_count": 8,
   "id": "d31489bb-4254-4c52-95fc-7fd6b0b7e35e",
   "metadata": {},
   "outputs": [],
   "source": [
    "for image in val_images:\n",
    "    w = image['width']\n",
    "    h = image['height']\n",
    "    fname = image['file_name'].split('.')[0]\n",
    "\n",
    "    if image['id'] not in train_annotations:\n",
    "        with open(f'./data/dfg-ultralytics/labels/val/{fname}.txt', 'w') as f:\n",
    "            f.write('')\n",
    "        continue\n",
    "\n",
    "    annotations = ['{} {} {} {} {}'.format(ann['category_id'], ann['bbox'][0]/w + ann['bbox'][2]/(2*w), ann['bbox'][1]/h + ann['bbox'][3]/(2*h), ann['bbox'][2]/w, ann['bbox'][3]/h) for ann in train_annotations[image['id']] if ann['bbox'][2] != -1]\n",
    "    with open(f'./data/dfg-ultralytics/labels/val/{fname}.txt', 'w') as f:\n",
    "        f.write('\\n'.join(annotations))"
   ]
  },
  {
   "cell_type": "code",
   "execution_count": 9,
   "id": "8537ae2f-d9c7-4730-9262-09c600d1c1dc",
   "metadata": {},
   "outputs": [],
   "source": [
    "for image in train_images:\n",
    "    shutil.copy(f'./data/dfg/JPEGImages/{image[\"file_name\"]}', f'./data/dfg-ultralytics/images/train/{image[\"file_name\"]}')\n",
    "\n",
    "for image in val_images:\n",
    "    shutil.copy(f'./data/dfg/JPEGImages/{image[\"file_name\"]}', f'./data/dfg-ultralytics/images/val/{image[\"file_name\"]}')"
   ]
  },
  {
   "cell_type": "code",
   "execution_count": 10,
   "id": "1db6b663-9a73-4b60-8c94-33dc516e1468",
   "metadata": {},
   "outputs": [
    {
     "data": {
      "text/plain": [
       "dict_keys(['images', 'categories', 'annotations', 'info'])"
      ]
     },
     "execution_count": 10,
     "metadata": {},
     "output_type": "execute_result"
    }
   ],
   "source": [
    "with open('./data/dfg/test.json', 'r') as f:\n",
    "    test_annotations = json.load(f)\n",
    "test_annotations.keys()"
   ]
  },
  {
   "cell_type": "code",
   "execution_count": 11,
   "id": "7ccead1a-81ab-4a2d-b4d1-78c1082f1264",
   "metadata": {},
   "outputs": [],
   "source": [
    "test_images = {x['id']: x for x in test_annotations['images']}"
   ]
  },
  {
   "cell_type": "code",
   "execution_count": 12,
   "id": "95465289-4335-4d70-bdda-476f98acc54d",
   "metadata": {},
   "outputs": [],
   "source": [
    "for annotation in test_annotations['annotations']:\n",
    "    if annotation['bbox'][2] == -1:\n",
    "        continue\n",
    "    image = test_images[annotation['image_id']]\n",
    "    fname = image['file_name'].split('.')[0]\n",
    "    x = (annotation['bbox'][0] + annotation['bbox'][2]/2) / image['width']\n",
    "    y = (annotation['bbox'][1] + annotation['bbox'][3]/2) / image['height']\n",
    "    w = annotation['bbox'][2] / image['width']\n",
    "    h = annotation['bbox'][3] / image['height']\n",
    "    with open(f'./data/dfg-ultralytics/labels/test/{fname}.txt', 'a') as f:\n",
    "        f.write('{} {} {} {} {}\\n'.format(annotation['category_id'], x, y, w, h))"
   ]
  },
  {
   "cell_type": "code",
   "execution_count": 13,
   "id": "f85f0084-e8a1-4509-81b1-5f4621a75b8b",
   "metadata": {},
   "outputs": [],
   "source": [
    "for image in test_annotations['images']:\n",
    "    shutil.copy(f'./data/dfg/JPEGImages/{image[\"file_name\"]}', f'./data/dfg-ultralytics/images/test/{image[\"file_name\"]}')"
   ]
  },
  {
   "cell_type": "code",
   "execution_count": 14,
   "id": "a8536f66-a8f2-48a9-9453-8773f8f64159",
   "metadata": {},
   "outputs": [],
   "source": [
    "with open('./data/dfg-ultralytics/data.yaml', 'w') as f:\n",
    "    f.write('path: ./data/dfg-ultralytics/\\n')\n",
    "    f.write('train: ./images/train/\\n')\n",
    "    f.write('val: ./images/val/\\n')\n",
    "    f.write('test: ./images/test/\\n')\n",
    "    f.write('\\n')\n",
    "\n",
    "    f.write('names:\\n')\n",
    "    for cat in train_annotations_json['categories']:\n",
    "        f.write(f'    {cat[\"id\"]}: {cat[\"name\"]}\\n')"
   ]
  },
  {
   "cell_type": "code",
   "execution_count": null,
   "id": "23c9c239-dad0-4bf7-aeaf-f73bc3b0ffb9",
   "metadata": {},
   "outputs": [],
   "source": []
  }
 ],
 "metadata": {
  "kernelspec": {
   "display_name": "Python 3 (ipykernel)",
   "language": "python",
   "name": "python3"
  },
  "language_info": {
   "codemirror_mode": {
    "name": "ipython",
    "version": 3
   },
   "file_extension": ".py",
   "mimetype": "text/x-python",
   "name": "python",
   "nbconvert_exporter": "python",
   "pygments_lexer": "ipython3",
   "version": "3.12.0"
  }
 },
 "nbformat": 4,
 "nbformat_minor": 5
}
